{
 "cells": [
  {
   "cell_type": "raw",
   "metadata": {},
   "source": [
    "---\n",
    "title: Goal Setting\n",
    "author: Liz Rightmire\n",
    "date: '2023-01-10'\n",
    "image: \"image.jpg\"\n",
    "description: \"Goal setting for beginning of semester\"\n",
    "format: html\n",
    "---"
   ]
  },
  {
   "cell_type": "markdown",
   "metadata": {},
   "source": [
    "# CSCI 0451: Reflective Goal-Setting\n",
    "\n",
    "Liz Rightmire"
   ]
  },
  {
   "cell_type": "markdown",
   "metadata": {},
   "source": [
    "## What You'll Learn\n",
    "\n",
    "*The knowledge we'll develop in CSCI 0451 can be broadly divided into four main areas:*\n",
    "\n",
    "- ***Theory***: *mathematical descriptions of frameworks and algorithms.*\n",
    "- ***Implementation***: *effective coding and use of tools in order to implement efficient machine learning algorithms.*\n",
    "- ***Experimentation***: *performing experiments to assess the performance of algorithms and clearly communicating about the results.*\n",
    "- ***Social responsibility***: *critical analysis of sources of bias and harm in machine learning algorithms; theoretical formulations of fairness and bias*\n",
    "\n",
    "*Every student should grow toward each of these areas, but you can choose to specialize if you'd like! If there are one or two of these categories on which you'd especially like to focus, list them below. Feel free to include any details that you'd like -- this can help me tailor the course content to your interests.*"
   ]
  },
  {
   "cell_type": "markdown",
   "metadata": {},
   "source": [
    "As I progress through the computer science major, I have developed a specific interest in data science and machine learning -- it's what I hope to do postgrad. I've been looking forward to this class for a long time, and when looking at my schedule, it seems within the realm of possibility to make this class a priority. I have a bit of experience with with implementation and experimentation of ML through a data science internship last summer, but I am far from an expert :). Therefore, I hope to apply most of my focus to theory (I want to better understand HOW these algorithms work and leverage my mathematical experience!) and Social Responsibliity (with an aspired career in data science, I am concerned about my impact and I want to take advantage of my liberal arts education to understand the harm that can be done in this industry.) "
   ]
  },
  {
   "cell_type": "markdown",
   "metadata": {},
   "source": [
    "## What You'll Achieve\n",
    "\n",
    "### Blog Posts\n",
    "\n",
    "*Most blog posts will require around 5-8 hours on average to complete, plus time for revisions in response to feedback. Blog posts will most frequently involve a mix of mathematical problem-solving, coding, experimentation, and written discussion. Some blog posts will ask you to critically discuss recent readings in an essay-like format.*\n"
   ]
  },
  {
   "cell_type": "markdown",
   "metadata": {},
   "source": [
    "I hope to do most of the blog posts. I tend to work at a slower rate than the average student, and considering that they take 5-8 hours to complete, I want to leave room in my goal of 10hrs/week of ML for readings and warm-ups. I see myself learning a lot from the blog posts, so I want to do as many as possible without over-extending myself. I find it challenging to quantify a specific number of blog posts at this time. Instead, it feels more reasonable to say that knowing that we'll have check-ins throughout the semester with the average numbers completed by the class, I hope my statistic will place me in an ambitous range. \n",
    "\n",
    "When I need to prioritize which blog posts to complete, I want to cover all categories but place special emphasis on Theory and Social Responsibility. I hope to propose and complete one additional blog post on Social Responsibility. Knowing myself, I don't think it will be challenging to submit my work by the best-by date and I want to give myself flexibility to invest extra time into blog posts that particularly interest me!\n",
    "\n",
    "I believe that completing revisions is where I'll learn the most, so I want to revise most (5?) of my blog posts to \"no revisions suggested.\" "
   ]
  },
  {
   "cell_type": "markdown",
   "metadata": {},
   "source": [
    "### Course Presence (Participation)\n",
    "\n",
    "*You make a choice each day about how to show up for class: whether you'll be prepared, whether you'll engage with me and your peers in a constructive manner; and whether you'll be active during lecture and discussions.*\n",
    "\n",
    "*An especially important form of course presence is the daily warmup. We'll spend the first 10-15 minutes of most class periods on warmup activities. You're expected to have prepared the warmup activity ahead of time (this means you'll need to have completed the readings as well). Each time, we'll sort into groups of 5-6 students, and one of you (randomly selected) will be responsible for presenting the activity on the whiteboard. If you're not feeling prepared to present the activity, you can \"pass\" to the next person, or ask for help along the way.*"
   ]
  },
  {
   "cell_type": "markdown",
   "metadata": {},
   "source": [
    "I aspire to do all of the readings -- including some optional theory readings -- as well as all of the warm-ups to the best of my ability. It doesn't feel productive to place a maximum number of \"passes\" because I trust my effort and intentions in doing my best work; instead, I'll try to attend student hours if I get stumped. I might need help from classmates sometimes, and I think that's ok.\n",
    "\n",
    "Before class, I aspire to preview the in-class coding we'll be doing so that I prep myself well for understanding the content.\n",
    "\n",
    "I have already begun working with some classmates outside of class, so I hope to  sometimes be the one to organize work times.\n",
    "\n",
    "Something I want to work on is my presentation skills. I presented on an algorithm for my J-Term class, and I felt poorly about how it went. Each time I'm chosen to present the warm-up in ML, I want to treat it as practice speaking in front of others and engaging my peers in discussion. I'm not one to speak often in class, but I aspire to ask a few questions over the semester and maybe even answer some questions. More practical for me, perhaps, is to challenge myself to attend student hours to ask specific questions when I get stuck."
   ]
  },
  {
   "cell_type": "markdown",
   "metadata": {},
   "source": [
    "### Project \n",
    "\n",
    "*To finish off the course, you'll complete a long-term project that showcases your interests and skills. You'll be free to propose and pursue a topic. My expectation is that most projects will move significantly beyond the content covered in class in some way: you might implement a new algorithm, study a complex data set in depth, or conduct a series of experiments related to assessing algorithmic bias in a certain class of algorithm. You'll be expected to complete this project in small groups (of your choosing), and update us at a few milestones along the way.*\n",
    "\n",
    "*Please share a bit about what kind of topic might excite you, and set a few goals about how you plan to show up as a constructive team-member and co-inquirer (see the [ideas](ideas.qmd) for some inspiration*). "
   ]
  },
  {
   "cell_type": "markdown",
   "metadata": {},
   "source": [
    "I look forward to working on a culmianting project with some classmates! Right now, I think I'll be interested in finding a complex dataset and applying some of the techniques we've learned in class as well as trying some new techniques. At the end of the project, I want to feel as though I \"pulled my weight\" with technical contributions, but also practice my interpersonal teamwork skills and hold teammates accountable for work. The final presentation will be a great opportunity for me to apply what I've been practicing in leading warm-ups."
   ]
  }
 ],
 "metadata": {
  "kernelspec": {
   "display_name": "ml-0451",
   "language": "python",
   "name": "python3"
  },
  "language_info": {
   "name": "python",
   "version": "3.9.15"
  },
  "vscode": {
   "interpreter": {
    "hash": "debe06cc0f9553f110b64dc3926c05df82dae2145b852c8422b9c04315589dcb"
   }
  }
 },
 "nbformat": 4,
 "nbformat_minor": 4
}

{
 "cells": [
  {
   "cell_type": "raw",
   "metadata": {},
   "source": [
    "---\n",
    "title: \"Mid-Course Reflection\"\n",
    "type: \"Reflection\"\n",
    "date: 2024-04-02\n",
    "image: \"image.jpg\"\n",
    "description: |\n",
    "    We reflect on our learning, engagement, and achievement in the first part of the semester. \n",
    "objectives: \n",
    "  - Reflection\n",
    "publish: \"true\"\n",
    "---"
   ]
  },
  {
   "attachments": {},
   "cell_type": "markdown",
   "metadata": {},
   "source": [
    "# CSCI 0451: Mid-Course Reflection\n",
    "\n",
    "Liz Rightmire"
   ]
  },
  {
   "attachments": {},
   "cell_type": "markdown",
   "metadata": {},
   "source": [
    "## The Data\n",
    "\n",
    "*In this section I'll ask you to fill in some data. You don't have to give precise numbers -- approximate, conversational responses are fine. For example, when I ask \"how often have you attended class,\" good answers include \"almost always,\" \"I've missed three times,\" \"about 75% of the time,\" \"not as often as I want,\" etc.* \n",
    "\n",
    "### Presence in Class\n",
    "\n",
    "- *How often have you attended class? (e.g. \"almost always,\" \"I missed three times,\" etc.)* \n",
    "    - always\n",
    "- *How often have you taken notes on the core readings ahead of the class period?* \n",
    "    - always\n",
    "- *How often have you been **prepared** to present the daily warm-up exercise to your team, even if you weren't actually called?* \n",
    "    - always\n",
    "- *How many times have you **actually** presented the daily warm-up to your team?* \n",
    "    - maybe three times?\n",
    "- *How many times have you asked your team for help while presenting the daily warm-up?* \n",
    "    - never\n",
    "- *How often have you learned something new from a teammate's presentation of the daily warm-up?* \n",
    "    - always\n",
    "- *How often have you helped a teammate during the daily warm-up presentation?* \n",
    "    - once or twice\n",
    "\n",
    "### Presence Outside of Class \n",
    "\n",
    "- *How often have you attended Student Hours or Peer Help?* \n",
    "    - once\n",
    "- *How often have you asked for or received help from your fellow students?* \n",
    "    - maybe three times\n",
    "- *Have you been regularly participating in a study group outside class?* \n",
    "    - for one or two blog posts\n",
    "- *How often have you posted questions or answers in Slack?* \n",
    "    - never\n",
    "\n",
    "### Assignments and Effort\n",
    "\n",
    "- *How many blog posts have you submitted?* \n",
    "    - 4, and working on a 5th\n",
    "- *How many of your submitted blog posts are at each of the following feedback stages?*\n",
    "    - E: *No revisions suggested:* 2\n",
    "    - M: *Revisions useful:* 2\n",
    "    - R: *Revisions encouraged:* 0\n",
    "    - N: *Incomplete:* 0\n",
    "- *Roughly how many hours per week have you spent on this course outside of class?* \n",
    "    - at least 10\n"
   ]
  },
  {
   "attachments": {},
   "cell_type": "markdown",
   "metadata": {},
   "source": [
    "## What You've Learned\n",
    "\n",
    "*At the beginning of the course, you may have expressed an interest in focusing a little extra on one or two of the following four categories:* \n",
    "\n",
    "- ***Theory***: *mathematical descriptions of frameworks and algorithms.*\n",
    "- ***Implementation***: *effective coding and use of tools in order to implement efficient machine learning algorithms.*\n",
    "- ***Experimentation***: *performing experiments to assess the performance of algorithms and clearly communicating about the results.*\n",
    "- ***Social responsibility***: *critical analysis of sources of bias and harm in machine learning algorithms; theoretical formulations of fairness and bias*\n",
    "\n",
    "*Did you choose to focus on any of these categories? If so, what have you done in order to pursue your interest?*    "
   ]
  },
  {
   "attachments": {},
   "cell_type": "markdown",
   "metadata": {},
   "source": [
    "I hoped to complete at one blog post in each category, with special emphasis on Theory and Social Responsibility. I think that I am on track to achieving these goals, having completed the Women in Data Science essay and the Limitations to the Qualitative Approach essay, which fall under the Social Responsibility Category. I am currently working on the Perceptron blog post, which fits under Theory."
   ]
  },
  {
   "attachments": {},
   "cell_type": "markdown",
   "metadata": {},
   "source": [
    "## Reflecting on Goals\n",
    "\n",
    "*For each of the categories below, replace the \"[your response here]\" cell with 1-2 paragraphs in which you reflect on the following questions:* \n",
    "\n",
    "- *In what ways are you **on track to meet your goals** from the beginning of the course? Be specific: explain what the goal is and what you are doing in order to meet it.* \n",
    "- *In what ways are you **not on track to meet your goals** from the beginning of the course? Be specific: explain what the goal is and what gap you see between where you are and your goal.* \n",
    "- *If there's any **context** you want to share about how you are faring relative to your goals, please do!*\n",
    "\n",
    "### Blog Posts"
   ]
  },
  {
   "attachments": {},
   "cell_type": "markdown",
   "metadata": {},
   "source": [
    "I struggled to quantify exactly how many blog posts I hoped to achieve, instead describing a desire to push myself in this class and be in the \"ambitious\" range of students. There's danger in this, as it relies on comparison to others to determine my success. That being said, the stats Professor Phil posted in Slack last week do place me in the abitious range!"
   ]
  },
  {
   "attachments": {},
   "cell_type": "markdown",
   "metadata": {},
   "source": [
    "### Course Presence (Participation)"
   ]
  },
  {
   "attachments": {},
   "cell_type": "markdown",
   "metadata": {},
   "source": [
    "I've been well-prepared for class each day -- I always take notes on the readings, review the posted notes, and complete the warm-ups. I've always felt prepared to present the warm-ups even if I'm not chosen and I've been able to help some peers with their presentations!\n",
    "\n",
    "I haven't had to miss any classes for illnesses and I feel as though I've been engaged and attentive in class. I try to contribute often in the small-group setting and be supportive of the presenter.\n",
    "\n",
    "When I've been selected to present, I've taken it seriously and tried my best to be consise, clear, and knowledgeable. \n",
    "\n",
    "I haven't spoken much in the large-class setting. I also haven't felt the need to attend office hours very frequently, but it may be a good for me to go more often to re-inforce what I'm leraning and ask questions about the theory."
   ]
  },
  {
   "attachments": {},
   "cell_type": "markdown",
   "metadata": {},
   "source": [
    "### Project "
   ]
  },
  {
   "attachments": {},
   "cell_type": "markdown",
   "metadata": {},
   "source": [
    "I look forward to brainstorming topics for the warm-up due Tuesday. I've already spoken with a few peers about working together, and I still aspire to provide technical, interpersonal, and presentation contributions."
   ]
  },
  {
   "attachments": {},
   "cell_type": "markdown",
   "metadata": {},
   "source": [
    "### Other\n",
    "\n",
    "*Is there anything else that you want to share with me about what you have learned, how you have participated, or what you have achieved in CSCI 0451?*"
   ]
  },
  {
   "attachments": {},
   "cell_type": "markdown",
   "metadata": {},
   "source": [
    "N/A"
   ]
  },
  {
   "attachments": {},
   "cell_type": "markdown",
   "metadata": {},
   "source": [
    "### Updating Your Goals\n",
    "\n",
    "From your experience in CSCI 0451 and your other classes this semester, you may feel moved to make modifications to your goals. Are they still feasible? Too ambitious? Not ambitious enough? If you would like to revise any of your goals from your reflective goal-setting, you can do so below. For each goal you want to modify: \n",
    "\n",
    "1. Clearly state what the goal was. \n",
    "2. Clearly state how you've done on that goal so far. \n",
    "3. Clearly state your proposed revised goal for the remainder of the course. "
   ]
  },
  {
   "attachments": {},
   "cell_type": "markdown",
   "metadata": {},
   "source": [
    "Having completed 4 blog posts at the half-way point, I'd like to move away from comparing to other students to be the \"ambitous range\" and instead aim to complete two or three more blogs. I want to make sure I'm leaving time for the final project!\n",
    "\n",
    "My original goal was to get 5 blogs to the \"E\" cateogry. With 2 blog posts in this category currently, I think it is reasonable to hope to get at least one more blog post to \"no revisions suggested.\"\n",
    "\n",
    "I initially hoped to be a leader in the study group I was working with, but with different students working on different blogs the group has somewhat dissolved, yet we still help each other with specific questions. Therefore, I will let this goal go. \n",
    "\n",
    "I think I'm safely on track for my other goals!"
   ]
  },
  {
   "attachments": {},
   "cell_type": "markdown",
   "metadata": {},
   "source": [
    "## Grade and Goals\n",
    "\n",
    "*Take 15 minutes to look back on your responses in each of the sections above. Then, state the letter grade that you feel reflects your learning, participation, and achievement in CSCI 0451 **so far**, and contextualize it against some of the soundbytes below.* \n",
    "\n",
    "### What a Grade Sounds Like\n",
    "\n",
    "*An **A** sounds like:* \n",
    "\n",
    "- *\"I am very proud of my time in this course.\"*\n",
    "- *\"I have grown significantly in multiple ways that matter to me.\"*\n",
    "- *\"I am ready to take the theory, techniques, and ideas of this course into my future classes, projects, hobbies, or career.\"* \n",
    "\n",
    "*A **B** sounds like:* \n",
    "\n",
    "- *\"I had some opportunities to learn more, overall I feel good about my time in this course.\"*\n",
    "- *\"I am able to explain some new things or achieve new tasks.\"*\n",
    "- *\"I can see a few ideas from this course that will be relevant for my future classes, projects, hobbies, or career.\"*\n",
    "\n",
    "*A **C** sounds like:* \n",
    "\n",
    "- *\"I often made a good effort, but I missed many opportunities to get more out of my time in this course.\"*\n",
    "- *\"I might be able to complete some new tasks related to the course content, but only with significant further guidance.\"* \n",
    "- *\"I don't see any ways to take the contents of this course into my future classes, projects, hobbies, or career.\"*\n",
    "\n",
    "*You might find that some of these soundbytes resonate and other's don't! Take some time, see what feels right, and don't be afraid to celebrate your achievements.* "
   ]
  },
  {
   "attachments": {},
   "cell_type": "markdown",
   "metadata": {},
   "source": [
    "> **Upon reflection, I feel that my learning, participation, and achievement in CSCI 0451 (so far) are best reflected by a grade of** A \n",
    "\n",
    "> **A way in which I resonate with the soundbytes for that grade above is...** \n",
    "\n",
    "I have been able to prioritize this class in a way that I'd hoped. I spend careful, intentional time preparing for each class and I am proud of the way I hold myself in the classroom. I have gained a lot of knowledge from each blog post I complete, and I am pleased with the progress I have made on them. I have developed a nuanced understanding of the field of machine learning, especially considering the work I've done in the Social Responsibility cateogry. I remain excited about the field of machine learning and I look forward to continuing to produce good work in this class! "
   ]
  },
  {
   "attachments": {},
   "cell_type": "markdown",
   "metadata": {},
   "source": [
    "## (Optional:) How to Improve? \n",
    "\n",
    "*You may feel disappointed by your reflection. Sometimes we don't achieve all our goals -- it happens and it's normal! If you are feeling disappointed by how you've learned, participated, or achieved in CSCI 0451, then feel free to write something about that below. Feel free to just write your feelings. If you have ideas for how to move forward, include those too! We'll talk.* "
   ]
  },
  {
   "attachments": {},
   "cell_type": "markdown",
   "metadata": {},
   "source": [
    "N/A"
   ]
  }
 ],
 "metadata": {
  "kernelspec": {
   "display_name": "ml-0451",
   "language": "python",
   "name": "python3"
  },
  "language_info": {
   "name": "python",
   "version": "3.9.15"
  },
  "orig_nbformat": 4,
  "vscode": {
   "interpreter": {
    "hash": "debe06cc0f9553f110b64dc3926c05df82dae2145b852c8422b9c04315589dcb"
   }
  }
 },
 "nbformat": 4,
 "nbformat_minor": 2
}

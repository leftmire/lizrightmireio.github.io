{
 "cells": [
  {
   "cell_type": "raw",
   "metadata": {},
   "source": [
    "---\n",
    "title: Final Project\n",
    "author: Liz Rightmire\n",
    "date: '2024-05-16'\n",
    "image: \"image.jpg\"\n",
    "description: \"My final project on skin cancer image classification\"\n",
    "format: html\n",
    "publish: true\n",
    "---"
   ]
  },
  {
   "cell_type": "markdown",
   "metadata": {},
   "source": [
    "# Project Blog Post\n",
    "### On skin cancer identification using CNN and Logistic Regresison models\n",
    "\n"
   ]
  },
  {
   "cell_type": "markdown",
   "metadata": {},
   "source": [
    "### Abstract\n",
    "\n",
    "Skin cancer is the most common form of cancer. According to the Victoria department of health, over 95% of skin cancers that are dected early can be successfully treated. This means that early detection is a crucial step in the treatment process of skin cancer. In our analyses, we aim to identify different types of skin conditions with image classification techniques. Using convolutional neural networks (CNN) and logistic regression (LR) models, we obtain a 75% accuracy rate for classification, where melanocytic nevi (NV) and melanoma (MEL) are the most successfully classified forms of skin condition.\n",
    "\n",
    "Link to GitHub Repository: [link](https://github.com/ShadowedSpace/cancer)"
   ]
  },
  {
   "cell_type": "markdown",
   "metadata": {},
   "source": [
    "### Introduction\n",
    "\n",
    "In 1994, Binder et al. trained a neural network that successfully differentiated between melanomas, the leading cause of skin cancer deaths, and melanocytic nevus, which are generally harmless skin lesions commonly known as moles or birth marks. In 2018, a challenge hosted by the International Skin Imaging Collaboration (ISIC) lay out the task of detection and classification of skin lesions and diseases. 900 parties registered to download the data for the challenge and hundreds of groups submitted novel evaluation techniques to automate the process of diagnosing skin lesions and diseases. A study conducted on the ISIC challenge revealved that the best classification models still failed to properly classify on average over 10% of dermoscopic images and had varying abilities to generalize (Coedlla et al., 2019). As it turns out, Binder et al.'s study (1994) trained their neural network on 200 images. The dataset used by the ISIC challenge is the world's largest public repository of dermoscopic images of skin and contains 10015 dermoscopic images. First released in 2018 by Philipp Tschandl et al., the HAM10000 (Humans Against Machines) is a novel dataset with the aim of improving the process of automated skin lesion diagnosis, as most existing demoscopic image datasets are either small in size or lacking diversity.\n",
    "\n",
    "According to a recent study by Tandon et al. (2024), the most successful deep learning model to implement for the automation of cancer diagnoses is the convolutional neural network (CNN). CNNs are a type of neural network that are particularly effective for identifying patterns in images and audio. CNNs are best used when there are large amounts of data to train the model on (MathWorks). Before the release of the HAM10000 dataset, the diversity and size of dermatoscopic images was limited, which also limited the progression of automated skin lesion detection (Tschandl et al. 2024). Binder et al.(1994) creates a model from a much smaller sample size and is limited in the diversity of skin lesions it can detect. As revealed by the 2018 ISIC challenge, automated healthcare diagnoses are still limited in accuracy and generalizability.\n",
    "\n",
    "In our project, we apply our knowledge of Convolutional Neural Networks (CNN) and other machine learning techniques to the HAM10000 dataset with the goal of classifying types of skin lesions. Accurate and early skin lesion diagnosis is crucial to a successful recovery when it comes to skin cancer.  Melanoma, a type of skin cancer, is quick to spread to other organs, and is the leading cause of deaths due to skin cancer. But when detected early enough, before the melanoma has a chance to spread, melanoma has a five-year survival rate of 98%. Precancerous or skin cancers spots can be spotted by the naked eye. According to the Fred Hutch Center, the ABCDE Guice is a way to visually detect abnormalities in skin lesions:\n",
    "\n",
    "**A** for asymmetry- early melanomas are asymmetrical while moles are symmetrical\n",
    "\n",
    "**B** for border- early melanomas tend to have uneven borders\n",
    "\n",
    "**C** for color- early melanomas are often a vareity of shades of brown while common moles tend to be one shade\n",
    "\n",
    "**D** for diameter- the diameter of melanomas are typically larger than that of a mole\n",
    "\n",
    "**E** for evolution- changes in a skin lesion may indicate skin cancer\n",
    "\n",
    "As seen in Figure 1, the majority of skin lesions in the HAM10000 dataset are melanocytic nevi (NV), and the second most common skin lesions are melanomas (MEL).\n",
    "\n",
    "We use CNN and logistic regression models to classify types of skin lesions identified in the HAM10000 dataset. Using the logistic regression models on non-image variables provided in the dataset, we achieve a testing accuracy of 70%. Including images when training the model does not significantly increase the accuracy rate. When using the CNN method, we apply class weights as the dataset is highly imbalance towards NV diagnoses. This results in a model with 75% testing accuracy. \n",
    "\n",
    "We also separate skin lesion types into 'malignant' and 'benign' categories. When training to classify more dangerous skin lesions from harmless skin lesions, the weighted logistic regression model is able to correctly identify 57% of demoscopic images showing malignant skin lesions. Compared to the CNN model of simply classifying skin lesions, where malignant skin lesions are correctly identified 3% to 16% of the time, grouping the malignant skin lesions for classification results in a much improved model for correctly indentifying malignant skin lesions.\n",
    "\n",
    "While the imbalanced dataset made the methods we used more difficult to train to achieve higher accuracy than baseline, weighing these models achieves an accuracy of classification of 75%, which is about 10 percentage points greater than the baseline accuracy. Additionally, our findings from malignant skin lesion identification reveal that combining malignant skin lesion categories for classification significantly improves the model performace.\n",
    "\n"
   ]
  },
  {
   "cell_type": "markdown",
   "metadata": {},
   "source": [
    "### Values Statement\n",
    "We created this model as a way to explore how technologies like convolutional neural networks could be used on a real-world problem. In the state it is in now, we do not recommend using our model as a true diagnosis tool. However, if we were to continue to improve this model to higher accuracy, there is a world where community members could upload photos of skin lesions and receive a percentage risk score that their skin lesion might benefit from analysis from a professional. That being said, an image would need to be high-quality and under professional lighting to match the image style of the images in HAM10000.\n",
    "\n",
    "One of the greatest challenges in the healthcare industry is access. Geographical \"deserts\" exist all across the country where population healthcare needs are unmet partially or totally due to lack of adequate access (Brinzac et al). TeleHealth and WebHealth solutions are aiding these communities; a skin lesion classification algorithm could be used in such services.\n",
    "\n",
    "The HAM10000 dataset was created to address the issue of small size and lack of diversity in publically available skin cancer datasets. That being said, the images were collected from the Austrian and Australian population, consisting of predominantly white individuals. We have not tested how our algorithm's results when applied to skin lesions on darker skin tones, but it would likely underperform.\n",
    "\n",
    "Speak with just about anyone and it's likely that they or somebody they love has been touched by cancer. This is certainly true for the four of us, especially Zoe who received a cancer diagnosis last spring. We combined Liz's interest in applying machine learning to improve health outcomes with Zoe's specific interest in cancer, and settled on the HAM10000 dataset because of its wide use.\n",
    "\n",
    "It is our hope that the world would be a more joyful place with the implementation of this algorithm. Beacuse of the crucial role of early recognition in skin cancer diagnosis, we hope that this model could allow people to more readily determine if they should get a skin lesion evaluated by a medical professional. "
   ]
  },
  {
   "cell_type": "markdown",
   "metadata": {},
   "source": [
    "### Materials and Methods\n",
    "\n",
    "##### Data\n",
    "For this project, we used the publicly available HAM10000 dataset, found on the Harvard Dataverse (Tschandl, 2023). It includes 10015 dermatoscopic images of skin lesions which were collected over a period of 20 years at two different sites, one in Austria and the other in Australia (Tschandl et al. 2018). \n",
    "\n",
    "Along with the image data, we used the provided metadata file that contained information such as lesion_id, image_id, dx, dx_type, age, sex, localization, dataset. Some lesions were photographed multiple times, and dx refers to the diagnosis. One of the first challenges was converting the images into 2D numpy arrays and adding them into the data frame with the dx information (the target we were attempting to predict). \n",
    "\n",
    "The limitations of this data were immediately obvious. This includes bias in the type of skin lesions represented in the data, in addition to bias of the demographics and skin types of patients with lesions represented in the data. As mentioned above, the data was collected in Australia and Austria, meaning that darker skin tones were not represented. This is particularly important to consider in a data set being used for machine learning, because if the machine doesn't learn on a fair data set, there is likely to be a trickle down effect into the health care system, further systematizing racial injustices in patient treatment.\n",
    "\n",
    "#### Figure 1: Frequency of Skin Lesion Categories\n",
    "![alt text](images/SkinCancer_TypeFrequency.png \"Skin Lesion Categories\")\n",
    "\n",
    "This figure shows the frequency of diagnoses present in the data set. Clearly, the nv dx dominates the space, bringing up questions about how well a model trained on this data will classify any non-nv diagnoses. This issue will be further discussed below in the approach section.\n",
    "\n",
    "##### Approach\n",
    "The features of our data used to make predictions were the images, converted into 32x32x3 numpy arrays. The goal was to predict the column of the metadata table labeled dx, the diagnosis corresponding to each lesion.\n",
    "\n",
    "We subset our data into two sets, 80% for the training set and 20% for the test set. This train-test split provided a large enough sample to properly train the model, while also leaving enough data unseen to evaluate whether overfitting occurred.\n",
    "\n",
    "To start out, we used the sci kit learn LogisticRegression model. This was mostly a preliminary effort to eliminate any bugs and see how we were doing in comparison to the base accuracy. After this, we moved on to our main model, which was a convolutional neural network (CNN). This decision was primarily based off previously published papers showing that this method was the most successful. We attempted several variations, each with and without data augmentation. First, we tried a minimally connected linear model. Then we added additional ReLU and Conv2D layers to see if the additional layers would improve the accuracy. We also attempted a model with added dropout layers, and a dropout probability of 25%. We started to be suspicious of the results when a model recommended by a published paper was not yielding good accuracy. After investigating this issue, we realized that because of the high prevalence of the dx nv in our dataset, the model was always choosing this as the correct answer. To fix this, we implemented class weights and transfer learning. Transfer learning proved more successful, yielding our best accuracy of around 75%.\n",
    "\n",
    "Originally, we trained our models on 10 or 20 epochs. Once we isolated the best models, we spent the time to do a 100 epoch training period. All training was performed on our personal laptops.\n",
    "\n",
    "Our models were evaluated on accuracy of the validation set after extensive training. Confusion matrices were used extensively to investigae in which categories the misclassifications were occurring. As mentioned above, the training set contained 80% of the data (~8000 images) while the validation set was comprised of 20% (~2000 images). "
   ]
  },
  {
   "cell_type": "markdown",
   "metadata": {},
   "source": [
    "### Results\n",
    "Our best models were the product of data augmentation, class weights, and transfer learning. First, we trained an ImageNet model, as designed by Stanford reserachers in 2009. Training for 100 epochs took about 240 minutes but produced an accuracy of about 70% on a validation set. The accuracy steadily increased over the epochs: \n",
    "\n",
    "![TrainingGraph](images/ImageNetTraining.jpg)\n",
    "\n",
    " Take a look at the confusion matrix: \n",
    "\n",
    "![ConfusionMatrix](images/ImageNet_Confusion.jpg)\n",
    "\n",
    "Our model is best at predicting nv, or melanocytic nevi. Unfortunately, this is a benign skin lesion. It is the majority class in our model, explaining why it is predicted most often. That being said, we see better accuracy with melanoma and benign keratosis than previous models.\n",
    "\n",
    "With the intention of increasing classification accuracy for melanoma, the most dangerous skin cancer, we utilized mobilenet_v2, Google's transfer learning model from 2007. By adjusting the class weights to target the minority classes more aggressively, we were able to produce the following results on validation data. \n",
    "\n",
    "![ConfusionMatrix](images/mobilenet_confusion.jpg)\n",
    "\n",
    "We see increased accuracy for melanoma, at the expense of melanocytic nevi."
   ]
  },
  {
   "cell_type": "markdown",
   "metadata": {},
   "source": [
    "### Concluding Discussion\n",
    "*Your conclusion is the right time to assess:*\n",
    "\n",
    "*In what ways did our project work?*\n",
    "*Did we meet the goals that we set at the beginning of the project?*\n",
    "*How do our results compare to the results of others who have also studied similar problems?*\n",
    "*If we had more time, data, or computational resources, what might we do differently in order to improve further?*\n",
    "\n",
    "Our project was less successful than we had initially hoped. Several of our members have been impacted by cancer outside of this project, so we were particularly motivated to create a model that could be used to help people. While our intentions and motivations were good, our results were not as successful as we had hoped. We were able to achieve a 70% accuracy rate, which is better than the baseline accuracy of 65%. However, this is still not a high enough accuracy rate to be used as an accurate diagnostic tool. We had hoped that our model would provide an accessible alternative to professional diagnosis, but it was instead only the first step in a long process.\n",
    "\n",
    "While we most certainly did not cure cancer, we met many of our exploration and implementation goals. Our model has some predictive power, and we were able to explore the HAM10000 dataset in depth. We were able to implement a convolutional neural network, which is a powerful tool for image classification and we were able to explore the limitations of our model and the dataset. We were also able to implement class weights and transfer learning to improve our model's accuracy. These fully fulfilled our goals of utilizing machine learning techniques to classify skin lesions.\n",
    "\n",
    "Our results were within the range of similarly experienced projects using the HAM10000 dataset. However, one group of researchers was able to achieve an accuracy of 84.3% with an EfficientNet model, which is a more advanced model than the ones we used (Tajerian et al., 2023). Another group achieved an accuracy of 96.15 using Google's ViT patch-32 model (Himel et al., 2024), which is also a more advanced model than the ones we used. Our results were not as successful as these groups, but they were within the range of other groups that used simpler models.\n",
    "\n",
    "If we'd had more time and resources to continue this project, we likely would have explored some of the more advanced models mentioned above, as well as attempted to replicate some of their results. We were also limited by the size of the dataset, which, while relatively small for a machine learning project, is rather large to be processed on a personal laptop. We would have liked to further explore some of the ethical implications of our model, such as the potential for racial bias in the data and the potential for our model to be used as a diagnostic tool in underserved communities. \n"
   ]
  },
  {
   "cell_type": "markdown",
   "metadata": {},
   "source": [
    "### Group Contribution Statement\n",
    "\n",
    "Our group was formed because the topics proposed by Liz and Zoe had similarities regarding identification in the health space. Once we decided to look into cancer diagnoses, Zoe presented several dataset options to the group. We decided to focus on skin cancer identification and looked into datasets as a group, ultimately landing on the HAM10000 dataset. In doing the analyses, we decided to split the workload so that Liz and Zoe work primarily on the building the convolutional neural network, while Julia and Breanna worked on improving the logistic regression models. For the final blog post, Breanna wrote the abstract, introduction and group contribution statement. Julia summarized the concluding thoughts from the project. Liz wrote the values statement and worked on the results section jointly with Zoe. Zoe worked with Liz on the results and wrote the data/methods section."
   ]
  },
  {
   "cell_type": "markdown",
   "metadata": {},
   "source": [
    "### Personal Reflection\n",
    "*At the very end of your blog post, in a few paragraphs, respond to the following questions:*\n",
    "\n",
    "*What did you learn from the process of researching, implementing, and communicating about your project?*\n",
    "*How do you feel about what you achieved? Did meet your initial goals? Did you exceed them or fall short? In what ways?*\n",
    "*In what ways will you carry the experience of working on this project into your next courses, career stages, or personal life?*"
   ]
  },
  {
   "cell_type": "markdown",
   "metadata": {},
   "source": [
    "### Sources \n",
    "Binder, M., A. Steiner, M. Schwarz, S. Knollmayer, K. Wolff, and H. Pehamberger. 1994. “Application of an Artificial Neural Network in Epiluminescence Microscopy Pattern Analysis of Pigmented Skin Lesions: A Pilot Study.” British Journal of Dermatology 130 (4): 460–65. https://doi.org/10.1111/j.1365-2133.1994.tb03378.x.\n",
    "\n",
    "Codella, Noel, Veronica Rotemberg, Philipp Tschandl, M. Emre Celebi, Stephen Dusza, David Gutman, Brian Helba, et al. 2019. “Skin Lesion Analysis Toward Melanoma Detection 2018: A Challenge Hosted by the International Skin Imaging Collaboration (ISIC).” arXiv. https://doi.org/10.48550/arXiv.1902.03368.\n",
    "\n",
    "Services, Department of Health & Human. n.d. “Melanoma.” Department of Health & Human Services. Accessed May 13, 2024. http://www.betterhealth.vic.gov.au/health/conditionsandtreatments/melanoma.\n",
    "\n",
    "Himel, Galib Muhammad Shahriar et al. “Skin Cancer Segmentation and Classification Using Vision Transformer for Automatic Analysis in Dermatoscopy-Based Noninvasive Digital System.” International journal of biomedical imaging vol. 2024 3022192. 3 Feb. 2024, doi:10.1155/2024/3022192. https://www.ncbi.nlm.nih.gov/pmc/articles/PMC10858797/.\n",
    "\n",
    "“Skin Cancer Early Detection.” n.d. Fred Hutch. Accessed May 13, 2024. https://www.fredhutch.org/en/patient-care/prevention/skin-cancer-early-detection.html.\n",
    "\n",
    "Tajerian, Amin et al. “Design and validation of a new machine-learning-based diagnostic tool for the differentiation of dermatoscopic skin cancer images.” PloS one vol. 18,4 e0284437. 14 Apr. 2023, doi:10.1371/journal.pone.0284437. https://www.ncbi.nlm.nih.gov/pmc/articles/PMC10104315/.\n",
    "\n",
    "Tandon, Ritu, Shweta Agrawal, Narendra Pal Singh Rathore, Abhinava K. Mishra, and Sanjiv Kumar Jain. 2024. “A Systematic Review on Deep Learning-Based Automated Cancer Diagnosis Models.” Journal of Cellular and Molecular Medicine 28 (6): e18144. https://doi.org/10.1111/jcmm.18144.\n",
    "\n",
    "Tschandl, Philipp. 2023. “The HAM10000 Dataset, a Large Collection of Multi-Source Dermatoscopic Images of Common Pigmented Skin Lesions.” Harvard Dataverse. https://doi.org/10.7910/DVN/DBW86T.\n",
    "\n",
    "Tschandl, Philipp, Cliff Rosendahl, and Harald Kittler. 2018. “The HAM10000 Dataset, a Large Collection of Multi-Source Dermatoscopic Images of Common Pigmented Skin Lesions.” Scientific Data 5 (1): 180161. https://doi.org/10.1038/sdata.2018.161.\n",
    "\n",
    "“What Is a Convolutional Neural Network? | 3 Things You Need to Know.” n.d. Accessed May 13, 2024. https://www.mathworks.com/discovery/convolutional-neural-network.html.\n",
    "\n",
    "Brinzac, Monica, Kuhlmann, Ellen, Dussault, Gilles. \"Defining medical deserts -- an international consensus-building exercise.\" PubMed, National Center for Biotechnology Information. https://pubmed.ncbi.nlm.nih.gov/37421651/#:~:text=Results%3A%20The%20agreed%20definition%20highlight.\n",
    "\n",
    "\n",
    "\n"
   ]
  }
 ],
 "metadata": {
  "language_info": {
   "name": "python"
  }
 },
 "nbformat": 4,
 "nbformat_minor": 2
}

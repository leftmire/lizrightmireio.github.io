{
 "cells": [
  {
   "cell_type": "raw",
   "metadata": {},
   "source": [
    "---\n",
    "title: Classifying Palmer Penguins\n",
    "author: Liz Rightmire\n",
    "date: '2024-02-20'\n",
    "image: \"image.jpg\"\n",
    "description: \"Selecting features and model for accurate penguin species classifier\"\n",
    "format: html\n",
    "---"
   ]
  }
 ],
 "metadata": {
  "language_info": {
   "name": "python"
  }
 },
 "nbformat": 4,
 "nbformat_minor": 2
}

{
 "cells": [
  {
   "cell_type": "raw",
   "metadata": {},
   "source": [
    "---\n",
    "title: Women in Data Science Conference\n",
    "author: Liz Rightmire\n",
    "date: '2024-10-3'\n",
    "image: \"image.jpg\"\n",
    "description: \"Researching gender disparities in data science, and attending Women in Data Science Conference\"\n",
    "format: html\n",
    "---"
   ]
  },
  {
   "cell_type": "markdown",
   "metadata": {},
   "source": [
    "# Women in Data Science Conference"
   ]
  },
  {
   "cell_type": "markdown",
   "metadata": {},
   "source": [
    "### Abstract"
   ]
  },
  {
   "cell_type": "markdown",
   "metadata": {},
   "source": [
    "Women are underrepresented in computing, math, and engineering, making up just 26% of computing professionals and 12% of engineering professionals in 2013. In this blog post, I aim to investigate how this gender divide developed, consider techniques proven to reverse this disparity, and apply my learning to the Middlebury College Women in Data Science Conference."
   ]
  },
  {
   "cell_type": "markdown",
   "metadata": {},
   "source": [
    "### Introduction"
   ]
  },
  {
   "cell_type": "markdown",
   "metadata": {},
   "source": [
    "Female underrepresentation in computing is problematic for many reasons. First, group dynamics in teams without women suffer, as women are “more likely than men to prioritize helping and working with other people over career goals” (Corbett & Hill, 4). The female perspective brings diversity to the workforce, contributing to creativity, productivity, and innovation. The biggest issues of this century – climate change, disease, overpopulation – require the skills of engineers and computer scientists. Everyone misses out on novel solutions when diverse participation is not prioritized. Underrepresentation of women in engineering fields is becoming a global issue, too; the US is less globally competitive because it is not hiring the best people for the jobs.\n",
    "\n",
    "It wasn’t always the case that female voices were scarce in these technical fields; women were significant players in the early decades of computing. Ada Lovelace was one of the early pioneers in the 1880s, and numerous women were programmers during World War II (Abbate). In the 1950s and 1960s, women maintained a presence in computing — representing about a quarter of workers. This statistic grew steadily until 1990, when just over a third of computing workers were women. At this time, computing lacked a gender identity and attracted women as well as men. However, women made up just 26% of computing professionals in 2013. “Over a relatively short period of time, a field that was once relatively gender-integrated has become solidly male-dominated” (Koput & Gutek, 105). What caused a decrease in women’s representation from 1990? One explanation lies in hiring practices that favored men, such as aptitude and personality tests which privileged male stereotyped characteristics — antisocial, mathematically inclined programmers were considered to be the best. Also, as personal computers became more readily available, young boys gained dominant ownership over these toys and the association of men and computers was fostered. As programming curriculums became more lucrative at colleges, universities imposed stringent requirements for entry and completion of the major, disadvantaging women who entered college with less programming experience after being encouraged to study things like “home economics” if they were found to be engineering-minded (Bix, 2002). \n",
    "\n",
    "However, the representation of women in computing can improve and is improving. At Harvey Mudd College, the percentage of women graduating from computing grew from 12% to 40% in five years, brought about by a revision of the introductory course, research opportunities for undergraduates, and taking female students to a Women in Computing Conference (Corbett & Hill, 4). There are many reasons why hosting events that spotlight women in STEM is critical for female engineering representation. Women in engineering and computing often report isolation, a lack of voice, and a lack of support, whereas men cite ample social networks in computing (Corbett & Hill, 34). It is important to create spaces that allow women to network and support each other, as a sense of belonging has measurable effects on an individual’s physical and mental state. The stereotype that women are less competent programmers is incredibly dangerous. Stereotype bias inhibits women when “individuals fear that they will confirm a negative stereotype about a group to which they belong” (Corbett & Hill, 3). These harmful stereotypes make women less confident and therefore hurt their performance. In the modern decade, explicit gender bias is relatively rare; what is more problematic is implicit gender bias, which can be combated only by individuals of all genders attending events that spotlight women in STEM."
   ]
  },
  {
   "cell_type": "markdown",
   "metadata": {},
   "source": [
    "### Conference Speakers"
   ]
  },
  {
   "cell_type": "markdown",
   "metadata": {},
   "source": [
    "An example of such an event is the Women in Data Science Conference at Middlebury College. This year, in 2024, three female professors from different academic departments presented lightning talks on how they use data science in their research projects, three female alumni spoke on their unique careers in data science, and Professor Sarah Brown visited from the University of Rhode Island to speak on her research concerning fairness in machine learning.\n",
    "\n",
    "The first lightning speaker was Professor Laura Beister from the computer science department, who presented her Ph.D. research. Professor Beister uses natural language processing to analyze Reddit posts of individuals who self-identify themselves online as depressed. This research analyzes posts on Reddit; while this may seem unreliable, it is true that people tend to post anonymously on Reddit about their conditions, known as an “identity claim,” and be truthful in such posts. Reddit is an incredibly large body of text, so Professor Beister used heavy computing power to search through the postings, find relevant ones, and then convert them into vectorized representations that she could perform analysis. She found that depressed individuals' language markers are similar to those of anxious, sad individuals, but more closely match controls (non-depressed individuals) after they make an identity claim as a depressed individual online. This indicates that there may be benefits to sharing one’s depression diagnosis, especially in a semi-anonymous form where people are likely to be empathetic. \n",
    "\n",
    "Next, Professor Amy Yuen presented her work modeling behavior in the UN Security Council to examine when the council decides to take up an issue and how the institution affects policy coordination. I learned that the UN Security Council is one of the six principal components of the United Nations and is tasked with recommending the admission of new UN members to the General Assembly and approving any changes to the UN Charter. Amy Yuen gathered data from different actors in the UN Security Council, a time-intensive process that relied heavily on data cleansing. She then used data science to argue for a different approach to considering the council’s decisions: a legislative bargaining framework. While I struggled to understand some of the principles surrounding international conflict resolution, I came out of this talk with an appreciation for how gathering and cleansing data can prove to be the most challenging, time-intensive part of the research process, and I began thinking about the skills I’ve learned in CS classes and how they may aid in this process.\n",
    "\n",
    "The last lightning speaker was Professor Jessica L’Roe, who spoke on one of her research projects concerning land access and trends of inequality in the highlands of East Africa. One of her research projects that I found particularly interesting surveyed fifty rural women about their strategies and challenges investing in children’s future livelihoods via land. She found that over 80% of women thought investing in education was more worthwhile than land. I was inspired to learn more about her path to becoming a woman in geography research, and was appreciated her reflection on gender stereotypes that she came to reject later in her life. She also touched on the challenge of gathering data in developing countries, where the results of the research are celebrated in the academic world but may have a relatively low impact on the communities they analyze.\n",
    "\n",
    "Finally, the visiting speaker, Dr. Professor Sarah Brown, gave an in-depth talk about her path to becoming a professor of data science. She described machine learning as a combination of computer science, statistics, and domain expertise; a description I’d never heard before. Professor Brown emphasized the importance of understanding problems in a nuanced way by soliciting the advice of industry professionals before trying to apply data science. A complex understanding of bias and consideration of fairness must occur before a data scientist ever considers building a model. This is why Professor Sarah Brown designed her curriculum to teach students about fairness before ever teaching them how to fit a machine learning model.\n",
    "Professor Brown's path to professorship was interesting and dynamic. In her career, she has learned “keys” that help her succeed. The first is understanding data’s context. She shared an anecdote about how diving deeply into a dataset allowed her to modify a regression problem to include classification in the cost function, producing better results for PTSD diagnosis. Next, a data scientist must consider disciplines as communities. Understanding data and a problem requires soliciting advice from people in all fields. Finally, Professor Brown spoke on the importance of meeting people where they are. A data scientist must be able to present technical findings to a non-technical audience, and explaining complex models in a flamboyant way only reduces its impact."
   ]
  },
  {
   "cell_type": "markdown",
   "metadata": {},
   "source": [
    "### Conclusion"
   ]
  },
  {
   "cell_type": "markdown",
   "metadata": {},
   "source": [
    "I found it valuable to learn more about the presence of gender disparities in a field I so passionately want to break into, and then take this knowledge to the Women in Data Science Conference. While it was at times upsetting to learn about the deep-rooted history of these inequalities, I now have a calm understanding of the facts that I can leverage to support myself if I ever find myself in a frustrating situation. I also now know techniques that can be used to reverse the statistics, of “solve the equation.” I’m inspired by the incredible work of women in data science that was showcased at this event, and I aspire to someday join the ranks of bright women in this field."
   ]
  }
 ],
 "metadata": {
  "kernelspec": {
   "display_name": "ml-0451",
   "language": "python",
   "name": "python3"
  },
  "language_info": {
   "codemirror_mode": {
    "name": "ipython",
    "version": 3
   },
   "file_extension": ".py",
   "mimetype": "text/x-python",
   "name": "python",
   "nbconvert_exporter": "python",
   "pygments_lexer": "ipython3",
   "version": "3.9.18"
  }
 },
 "nbformat": 4,
 "nbformat_minor": 2
}

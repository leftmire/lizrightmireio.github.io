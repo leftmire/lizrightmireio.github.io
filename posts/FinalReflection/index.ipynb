{
 "cells": [
  {
   "cell_type": "raw",
   "metadata": {},
   "source": [
    "---\n",
    "title: \"End-Of-Course Reflection\"\n",
    "type: \"Reflection\"\n",
    "date: 2024-05-15\n",
    "description: |\n",
    "    We reflect on our learning, engagement, and achievement over the course of the semester. \n",
    "objectives: \n",
    "  - Reflection\n",
    "publish: \"true\"\n",
    "---"
   ]
  },
  {
   "attachments": {},
   "cell_type": "markdown",
   "metadata": {},
   "source": [
    "# CSCI 0451: End-Of-Course Reflection\n",
    "\n",
    "Liz Rightmire"
   ]
  },
  {
   "attachments": {},
   "cell_type": "markdown",
   "metadata": {},
   "source": [
    "## The Data\n",
    "\n",
    "In this section I'll ask you to fill in some data. You don't have to give precise numbers -- approximate, conversational responses are fine. For example, when I ask \"how often did you attend class,\" good answers include \"almost always,\" \"I missed three times,\" \"about 75% of the time,\" \"not as often as I wanted,\" etc. \n",
    "\n",
    "### Presence in Class\n",
    "\n",
    "- *How often did you attend class? (e.g. \"almost always,\" \"I missed three times,\" etc.)* \n",
    "    - always\n",
    "- *How often did you take notes on the core readings ahead of the class period?* \n",
    "    - always\n",
    "- *How often were you prepared to present the daily warm-up exercise to your team, even if you weren't actually called?* \n",
    "    - always (I always *thought* my answers were solid, at least!)\n",
    "- *How many times did you actually present the daily warm-up to your team?* \n",
    "    - probably around 6 times in the semester\n",
    "- *How many times did you ask your team for help while presenting the daily warm-up?* \n",
    "    - once? But sometimes my teammates would help me make my answer even stronger!\n",
    "- *How often did you learn something new from a teammate's presentation of the daily warm-up?* \n",
    "    - frequently!\n",
    "- *How often did you help a teammate during the daily warm-up presentation?* \n",
    "    - I can think of two times\n",
    "- *Did you contribute a question for our guest speaker?* \n",
    "    - N/A\n",
    "\n",
    "### Presence Outside of Class \n",
    "\n",
    "- *How often did you attend Student Hours or Peer Help?* \n",
    "    - three times\n",
    "- *How often did you ask for or receive help from your fellow students?* \n",
    "    - I would sometimes group message my friends with questions -- maybe 10 times throughout the semester -- and I would respond about once a week to a friend's question.\n",
    "- *Did you regularly participate in a study group outside class?* \n",
    "    - Not an official study group, but would sometimes work with Lindsey,Sophie, and/or Breanna.\n",
    "- *How often did you post questions or answers in Slack?* \n",
    "    - never\n",
    "\n",
    "### Assignments and Effort\n",
    "\n",
    "- *How many blog posts did you submit?* 7\n",
    "- *How many of your submitted blog posts are at each of the following feedback stages?*\n",
    "    - *No revisions suggested:* 5\n",
    "    - *Revisions useful:* 2\n",
    "    - *Revisions encouraged:* 0\n",
    "    - *Incomplete:* 0\n",
    "\n",
    "- *Roughly how many hours per week did you spend on this course outside of class?* 11 hours\n"
   ]
  },
  {
   "attachments": {},
   "cell_type": "markdown",
   "metadata": {},
   "source": [
    "## What You Learned\n",
    "\n",
    "*At the beginning of the course, you may have expressed an interest in focusing a little extra on one or two of the following four categories:* \n",
    "\n",
    "- ***Theory***: *mathematical descriptions of frameworks and algorithms.*\n",
    "- ***Implementation***: *effective coding and use of tools in order to implement efficient machine learning algorithms.*\n",
    "- ***Experimentation***: *performing experiments to assess the performance of algorithms and clearly communicating about the results.*\n",
    "- ***Social responsibility***: *critical analysis of sources of bias and harm in machine learning algorithms; theoretical formulations of fairness and bias*\n",
    "\n",
    "*Did you choose to focus on any of these categories? If so, what did you do in order to pursue your interest?*    "
   ]
  },
  {
   "attachments": {},
   "cell_type": "markdown",
   "metadata": {},
   "source": [
    "I hoped to complete at least one blog post in each category, with special emphasis on Theory and Social Responsibility. I succeeded in completing one post in every category, and was able to complete 3 theory posts (Optimal Decision making, Logistic Regression, and Deep Learning) and 3 social responsibility posts (Optimal Decision Making, WIDS, and Limitations of the Quantitative approach)."
   ]
  },
  {
   "attachments": {},
   "cell_type": "markdown",
   "metadata": {},
   "source": [
    "## Reflecting on Goals\n",
    "\n",
    "*For each of the categories below, replace the \"[your response here]\" cell with 1-2 paragraphs in which you reflect on the following questions:* \n",
    "\n",
    "- *In what ways did you **meet** your goals from the beginning of the course? Be specific: explain what the goal was and what you did to meet it.* \n",
    "- *In what ways did you **not meet** your goals from the beginning of the course? Be specific: explain what the goal was and what the gap was between what you aspired to and what happened.* \n",
    "- *If there's any **context** you want to share about how you fared relative to your goals, please do!*\n",
    "\n",
    "### Blog Posts"
   ]
  },
  {
   "attachments": {},
   "cell_type": "markdown",
   "metadata": {},
   "source": [
    "I aspired to be in the ambitious range of blog posts, and set a goal of completing 5 posts to \"no revisions suggested.\" Looking at the chart Phil posted in Slack the other day, I do find myself in the ambitiious range with a blog post score of 19! I also succeeded in ending the semester with 5 \"E\" posts, and an additional 2 \"M\" posts. I accomplished my blog post goals!"
   ]
  },
  {
   "attachments": {},
   "cell_type": "markdown",
   "metadata": {},
   "source": [
    "### Course Presence (Participation)"
   ]
  },
  {
   "attachments": {},
   "cell_type": "markdown",
   "metadata": {},
   "source": [
    "I was always well-prepared for class each day -- I took notes on the readings, reviewed the posted notes, and completed the warm-ups. I always felt prepared to present the warm-ups even if I wasn't chosen, and I was able to help some peers with their explanations!\n",
    "\n",
    "I never missed any classes for illnesses or otherwise, and I feel as though I was engaged and attentive in class. I tried to contribute often in the small-group setting and be supportive of the presenter.\n",
    "\n",
    "When I was selected to present, I took it seriously and tried my best to be consise, clear, and knowledgeable. \n",
    "\n",
    "I didn't speak much in the large-class setting -- this is common for me. I also didn't attend office hours very frequently, but I wish I had. Sometimes I have the tendency to agonize over issues that could have been easily solved with guidance. I will take this reflection into the fall semester."
   ]
  },
  {
   "attachments": {},
   "cell_type": "markdown",
   "metadata": {},
   "source": [
    "### Project "
   ]
  },
  {
   "attachments": {},
   "cell_type": "markdown",
   "metadata": {},
   "source": [
    "With the project, I hoped to provide significant technical contributions, refine my interpersonal teamwork skills, and take the final presentation seriously.\n",
    "\n",
    "I feel positively about these these goals! First, I am really proud of the technical contributions I made to this project. I was grateful to have an equally enthusiastic companion (Zoe!). We found a pair programming structure that worked well, and the rest was history. We wrangled the data, implemented data augmentation, and designed neural networks. When our original neural networks failed, we thought of creative solutions and achieved the desired results. \n",
    "\n",
    "As far as interpersonal skills, I tried my best to be active in our planning group chat, and worked to enthusiastically motivate my team members. While some people work best closer to the deadline, I encouraged getting started early and did my best to allocate tasks. \n",
    "\n",
    "Finally, I felt positively about the final presentation! In my initial goal-setting write-up, I wrote about how I gave an incohesive, nervous presentation for my J-term class. I practiced a few times for my roommates and friends, and as a result I felt much more confident. "
   ]
  },
  {
   "attachments": {},
   "cell_type": "markdown",
   "metadata": {},
   "source": [
    "### Other\n",
    "\n",
    "*Is there anything else that you want to share with me about what you learned, how you participated, or what you achieved in CSCI 0451?*"
   ]
  },
  {
   "attachments": {},
   "cell_type": "markdown",
   "metadata": {},
   "source": [
    "N/A"
   ]
  },
  {
   "attachments": {},
   "cell_type": "markdown",
   "metadata": {},
   "source": [
    "# Your Proposed Letter Grade\n",
    "\n",
    "*Take 15 minutes to look back on your responses in each of the sections above. Then, make a proposal for the letter grade that you feel best reflects your learning, participation, and achievement in CSCI 0451. Here are some soundbytes to help guide your thinking:*\n",
    "\n",
    "*An **A** sounds like:* \n",
    "\n",
    "- *\"I am very proud of my time in this course.\"*\n",
    "- *\"I have grown significantly in multiple ways that matter to me.\"*\n",
    "- *\"I am ready to take the theory, techniques, and ideas of this course into my future classes, projects, hobbies, or career.\"* \n",
    "\n",
    "*A **B** sounds like:* \n",
    "\n",
    "- *\"I had some opportunities to learn more, overall I feel good about my time in this course.\"*\n",
    "- *\"I am able to explain some new things or achieve new tasks.\"*\n",
    "- *\"I can see a few ideas from this course that will be relevant for my future classes, projects, hobbies, or career.\"*\n",
    "\n",
    "*A **C** sounds like:* \n",
    "\n",
    "- *\"I often made a good effort, but I missed many opportunities to get more out of my time in this course.\"*\n",
    "- *\"I might be able to complete some new tasks related to the course content, but only with significant further guidance.\"* \n",
    "- *\"I don't see any ways to take the contents of this course into my future classes, projects, hobbies, or career.\"*\n",
    "\n",
    "*You might find that some of these soundbytes resonate and other's don't! Take some time, see what feels right, and don't be afraid to celebrate your achievements.* "
   ]
  },
  {
   "attachments": {},
   "cell_type": "markdown",
   "metadata": {},
   "source": [
    "[Your proposed letter grade in this section should be based purely on demonstrations of learning that you have **already submitted**.]{.aside}\n",
    "\n",
    "> **Upon reflection, I feel that my learning, participation, and achievement in CSCI 0451 are best reflected by a grade of** A \n"
   ]
  }
 ],
 "metadata": {
  "kernelspec": {
   "display_name": "ml-0451",
   "language": "python",
   "name": "python3"
  },
  "language_info": {
   "codemirror_mode": {
    "name": "ipython",
    "version": 3
   },
   "file_extension": ".py",
   "mimetype": "text/x-python",
   "name": "python",
   "nbconvert_exporter": "python",
   "pygments_lexer": "ipython3",
   "version": "3.9.18"
  },
  "orig_nbformat": 4,
  "vscode": {
   "interpreter": {
    "hash": "debe06cc0f9553f110b64dc3926c05df82dae2145b852c8422b9c04315589dcb"
   }
  }
 },
 "nbformat": 4,
 "nbformat_minor": 2
}
